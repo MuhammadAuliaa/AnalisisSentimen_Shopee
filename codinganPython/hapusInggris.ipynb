{
 "cells": [
  {
   "cell_type": "code",
   "execution_count": 1,
   "metadata": {},
   "outputs": [
    {
     "name": "stdout",
     "output_type": "stream",
     "text": [
      "Requirement already satisfied: Translate in c:\\users\\muhammad ade aulia\\miniconda3\\envs\\gpu_load\\lib\\site-packages (3.6.1)\n",
      "Requirement already satisfied: click in c:\\users\\muhammad ade aulia\\miniconda3\\envs\\gpu_load\\lib\\site-packages (from Translate) (8.1.7)\n",
      "Requirement already satisfied: lxml in c:\\users\\muhammad ade aulia\\miniconda3\\envs\\gpu_load\\lib\\site-packages (from Translate) (5.2.2)\n",
      "Requirement already satisfied: requests in c:\\users\\muhammad ade aulia\\miniconda3\\envs\\gpu_load\\lib\\site-packages (from Translate) (2.31.0)\n",
      "Requirement already satisfied: libretranslatepy==2.1.1 in c:\\users\\muhammad ade aulia\\miniconda3\\envs\\gpu_load\\lib\\site-packages (from Translate) (2.1.1)\n",
      "Requirement already satisfied: colorama in c:\\users\\muhammad ade aulia\\miniconda3\\envs\\gpu_load\\lib\\site-packages (from click->Translate) (0.4.6)\n",
      "Requirement already satisfied: charset-normalizer<4,>=2 in c:\\users\\muhammad ade aulia\\miniconda3\\envs\\gpu_load\\lib\\site-packages (from requests->Translate) (2.0.4)\n",
      "Requirement already satisfied: idna<4,>=2.5 in c:\\users\\muhammad ade aulia\\miniconda3\\envs\\gpu_load\\lib\\site-packages (from requests->Translate) (3.7)\n",
      "Requirement already satisfied: urllib3<3,>=1.21.1 in c:\\users\\muhammad ade aulia\\miniconda3\\envs\\gpu_load\\lib\\site-packages (from requests->Translate) (2.1.0)\n",
      "Requirement already satisfied: certifi>=2017.4.17 in c:\\users\\muhammad ade aulia\\miniconda3\\envs\\gpu_load\\lib\\site-packages (from requests->Translate) (2024.2.2)\n"
     ]
    },
    {
     "name": "stderr",
     "output_type": "stream",
     "text": [
      "WARNING: Ignoring invalid distribution -treamlit (c:\\users\\muhammad ade aulia\\miniconda3\\envs\\gpu_load\\lib\\site-packages)\n",
      "WARNING: Ignoring invalid distribution -treamlit (c:\\users\\muhammad ade aulia\\miniconda3\\envs\\gpu_load\\lib\\site-packages)\n"
     ]
    }
   ],
   "source": [
    "!pip install Translate"
   ]
  },
  {
   "cell_type": "code",
   "execution_count": null,
   "metadata": {},
   "outputs": [],
   "source": [
    "from translate import Translator\n",
    "\n",
    "def convert_eng(tweet):\n",
    "    translator = Translator(to_lang=\"en\", from_lang=\"id\")\n",
    "    translation = translator.translate(tweet)\n",
    "    return translation\n",
    "\n",
    "df['tweet_english'] = df['full_text'].apply(convert_eng)"
   ]
  }
 ],
 "metadata": {
  "kernelspec": {
   "display_name": "gpu_load",
   "language": "python",
   "name": "python3"
  },
  "language_info": {
   "codemirror_mode": {
    "name": "ipython",
    "version": 3
   },
   "file_extension": ".py",
   "mimetype": "text/x-python",
   "name": "python",
   "nbconvert_exporter": "python",
   "pygments_lexer": "ipython3",
   "version": "3.10.14"
  }
 },
 "nbformat": 4,
 "nbformat_minor": 2
}
