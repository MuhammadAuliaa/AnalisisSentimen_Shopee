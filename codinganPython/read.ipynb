{
 "cells": [
  {
   "cell_type": "markdown",
   "metadata": {},
   "source": []
  },
  {
   "cell_type": "code",
   "execution_count": 4,
   "metadata": {},
   "outputs": [
    {
     "data": {
      "text/html": [
       "<div>\n",
       "<style scoped>\n",
       "    .dataframe tbody tr th:only-of-type {\n",
       "        vertical-align: middle;\n",
       "    }\n",
       "\n",
       "    .dataframe tbody tr th {\n",
       "        vertical-align: top;\n",
       "    }\n",
       "\n",
       "    .dataframe thead th {\n",
       "        text-align: right;\n",
       "    }\n",
       "</style>\n",
       "<table border=\"1\" class=\"dataframe\">\n",
       "  <thead>\n",
       "    <tr style=\"text-align: right;\">\n",
       "      <th></th>\n",
       "      <th>Nama Pelanggan</th>\n",
       "      <th>Produk</th>\n",
       "      <th>Ulasan</th>\n",
       "      <th>Rating</th>\n",
       "    </tr>\n",
       "  </thead>\n",
       "  <tbody>\n",
       "    <tr>\n",
       "      <th>0</th>\n",
       "      <td>A***i</td>\n",
       "      <td>Hana Fashion - Nagita Set Strap Midi Dress Wit...</td>\n",
       "      <td>Sesuai deskripsi dan gambar. Terima kasih</td>\n",
       "      <td>5</td>\n",
       "    </tr>\n",
       "    <tr>\n",
       "      <th>1</th>\n",
       "      <td>Niko</td>\n",
       "      <td>HanaFashion - Kharen T-shirt Knit / Kaos Crop ...</td>\n",
       "      <td>Terlalu Kecil utk ukuran L, gak bsa dipakai ba...</td>\n",
       "      <td>1</td>\n",
       "    </tr>\n",
       "    <tr>\n",
       "      <th>2</th>\n",
       "      <td>S***l</td>\n",
       "      <td>HanaFashion - Bona T-shirt Wanita / Kaos Wanit...</td>\n",
       "      <td>Bahannya tdk melar dan kasar</td>\n",
       "      <td>3</td>\n",
       "    </tr>\n",
       "    <tr>\n",
       "      <th>3</th>\n",
       "      <td>Adhitama</td>\n",
       "      <td>HanaFashion - Anya Mini Skirt / Rok Pendek Wan...</td>\n",
       "      <td>bahan tipis. standar aja</td>\n",
       "      <td>4</td>\n",
       "    </tr>\n",
       "    <tr>\n",
       "      <th>4</th>\n",
       "      <td>truly</td>\n",
       "      <td>HanaFashion - Woori Blue Jeans Long Pants - JL...</td>\n",
       "      <td>Ukurannya pas Tinggi badan 161 - 170 cm Berat ...</td>\n",
       "      <td>4</td>\n",
       "    </tr>\n",
       "  </tbody>\n",
       "</table>\n",
       "</div>"
      ],
      "text/plain": [
       "  Nama Pelanggan                                             Produk  \\\n",
       "0          A***i  Hana Fashion - Nagita Set Strap Midi Dress Wit...   \n",
       "1           Niko  HanaFashion - Kharen T-shirt Knit / Kaos Crop ...   \n",
       "2          S***l  HanaFashion - Bona T-shirt Wanita / Kaos Wanit...   \n",
       "3       Adhitama  HanaFashion - Anya Mini Skirt / Rok Pendek Wan...   \n",
       "4          truly  HanaFashion - Woori Blue Jeans Long Pants - JL...   \n",
       "\n",
       "                                              Ulasan  Rating  \n",
       "0          Sesuai deskripsi dan gambar. Terima kasih       5  \n",
       "1  Terlalu Kecil utk ukuran L, gak bsa dipakai ba...       1  \n",
       "2                       Bahannya tdk melar dan kasar       3  \n",
       "3                           bahan tipis. standar aja       4  \n",
       "4  Ukurannya pas Tinggi badan 161 - 170 cm Berat ...       4  "
      ]
     },
     "execution_count": 4,
     "metadata": {},
     "output_type": "execute_result"
    }
   ],
   "source": [
    "import pandas as pd\n",
    "\n",
    "df = pd.read_csv(\"../Tokopedia.csv\")\n",
    "df"
   ]
  },
  {
   "cell_type": "code",
   "execution_count": 4,
   "metadata": {},
   "outputs": [
    {
     "name": "stdout",
     "output_type": "stream",
     "text": [
      "<class 'str'>\n"
     ]
    }
   ],
   "source": [
    "p = (input(int()))\n",
    "print(type(p))"
   ]
  },
  {
   "cell_type": "code",
   "execution_count": null,
   "metadata": {},
   "outputs": [],
   "source": []
  }
 ],
 "metadata": {
  "kernelspec": {
   "display_name": "Python 3",
   "language": "python",
   "name": "python3"
  },
  "language_info": {
   "codemirror_mode": {
    "name": "ipython",
    "version": 3
   },
   "file_extension": ".py",
   "mimetype": "text/x-python",
   "name": "python",
   "nbconvert_exporter": "python",
   "pygments_lexer": "ipython3",
   "version": "3.12.3"
  }
 },
 "nbformat": 4,
 "nbformat_minor": 2
}
