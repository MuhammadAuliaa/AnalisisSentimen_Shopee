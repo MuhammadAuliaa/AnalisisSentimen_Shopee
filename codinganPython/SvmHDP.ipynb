{
 "cells": [
  {
   "cell_type": "code",
   "execution_count": 36,
   "metadata": {},
   "outputs": [
    {
     "name": "stderr",
     "output_type": "stream",
     "text": [
      "[nltk_data] Downloading package punkt to C:\\Users\\Muhammad Ade\n",
      "[nltk_data]     Aulia\\AppData\\Roaming\\nltk_data...\n",
      "[nltk_data]   Package punkt is already up-to-date!\n",
      "[nltk_data] Downloading package stopwords to C:\\Users\\Muhammad Ade\n",
      "[nltk_data]     Aulia\\AppData\\Roaming\\nltk_data...\n",
      "[nltk_data]   Package stopwords is already up-to-date!\n"
     ]
    },
    {
     "data": {
      "text/plain": [
       "True"
      ]
     },
     "execution_count": 36,
     "metadata": {},
     "output_type": "execute_result"
    }
   ],
   "source": [
    "import pandas as pd\n",
    "import numpy as np\n",
    "from sklearn.feature_extraction.text import CountVectorizer\n",
    "from sklearn.preprocessing import LabelEncoder\n",
    "from sklearn.model_selection import train_test_split\n",
    "from sklearn.svm import SVC\n",
    "from sklearn.metrics import classification_report\n",
    "from gensim.models import HdpModel, CoherenceModel\n",
    "from gensim.corpora import Dictionary\n",
    "from nltk.corpus import stopwords\n",
    "from nltk.tokenize import word_tokenize\n",
    "import re\n",
    "import nltk\n",
    "\n",
    "nltk.download('punkt')\n",
    "nltk.download('stopwords')"
   ]
  },
  {
   "cell_type": "code",
   "execution_count": 37,
   "metadata": {},
   "outputs": [
    {
     "data": {
      "text/html": [
       "<div>\n",
       "<style scoped>\n",
       "    .dataframe tbody tr th:only-of-type {\n",
       "        vertical-align: middle;\n",
       "    }\n",
       "\n",
       "    .dataframe tbody tr th {\n",
       "        vertical-align: top;\n",
       "    }\n",
       "\n",
       "    .dataframe thead th {\n",
       "        text-align: right;\n",
       "    }\n",
       "</style>\n",
       "<table border=\"1\" class=\"dataframe\">\n",
       "  <thead>\n",
       "    <tr style=\"text-align: right;\">\n",
       "      <th></th>\n",
       "      <th>Ulasan</th>\n",
       "      <th>Sentimen</th>\n",
       "    </tr>\n",
       "  </thead>\n",
       "  <tbody>\n",
       "    <tr>\n",
       "      <th>0</th>\n",
       "      <td>ulas</td>\n",
       "      <td>Negatif</td>\n",
       "    </tr>\n",
       "    <tr>\n",
       "      <th>2</th>\n",
       "      <td>bahan aja warna navy nya beda</td>\n",
       "      <td>Negatif</td>\n",
       "    </tr>\n",
       "    <tr>\n",
       "      <th>3</th>\n",
       "      <td>kasih catat order warna kuning navy baca kirim...</td>\n",
       "      <td>Negatif</td>\n",
       "    </tr>\n",
       "    <tr>\n",
       "      <th>4</th>\n",
       "      <td>kecil</td>\n",
       "      <td>Negatif</td>\n",
       "    </tr>\n",
       "    <tr>\n",
       "      <th>5</th>\n",
       "      <td>tau layan</td>\n",
       "      <td>Negatif</td>\n",
       "    </tr>\n",
       "    <tr>\n",
       "      <th>...</th>\n",
       "      <td>...</td>\n",
       "      <td>...</td>\n",
       "    </tr>\n",
       "    <tr>\n",
       "      <th>989</th>\n",
       "      <td>cocok</td>\n",
       "      <td>Negatif</td>\n",
       "    </tr>\n",
       "    <tr>\n",
       "      <th>990</th>\n",
       "      <td>barang selamat terima kasih bahan celana nya s...</td>\n",
       "      <td>Negatif</td>\n",
       "    </tr>\n",
       "    <tr>\n",
       "      <th>992</th>\n",
       "      <td>pesan cuna barang rusak coba konfirmasi tanggap</td>\n",
       "      <td>Negatif</td>\n",
       "    </tr>\n",
       "    <tr>\n",
       "      <th>993</th>\n",
       "      <td>karet pinggang nya kencang</td>\n",
       "      <td>Negatif</td>\n",
       "    </tr>\n",
       "    <tr>\n",
       "      <th>994</th>\n",
       "      <td>aja mahal sih hrg segitu</td>\n",
       "      <td>Negatif</td>\n",
       "    </tr>\n",
       "  </tbody>\n",
       "</table>\n",
       "<p>947 rows × 2 columns</p>\n",
       "</div>"
      ],
      "text/plain": [
       "                                                Ulasan Sentimen\n",
       "0                                                 ulas  Negatif\n",
       "2                        bahan aja warna navy nya beda  Negatif\n",
       "3    kasih catat order warna kuning navy baca kirim...  Negatif\n",
       "4                                                kecil  Negatif\n",
       "5                                            tau layan  Negatif\n",
       "..                                                 ...      ...\n",
       "989                                              cocok  Negatif\n",
       "990  barang selamat terima kasih bahan celana nya s...  Negatif\n",
       "992    pesan cuna barang rusak coba konfirmasi tanggap  Negatif\n",
       "993                         karet pinggang nya kencang  Negatif\n",
       "994                           aja mahal sih hrg segitu  Negatif\n",
       "\n",
       "[947 rows x 2 columns]"
      ]
     },
     "execution_count": 37,
     "metadata": {},
     "output_type": "execute_result"
    }
   ],
   "source": [
    "# Load data from CSV file\n",
    "df = pd.read_csv('../data/dataHasilPreprocessing/hasilPreprocessing1.csv')  # Ganti dengan path file Anda\n",
    "df = df.drop_duplicates(subset=['Ulasan'])\n",
    "df = df.dropna()\n",
    "df"
   ]
  },
  {
   "cell_type": "code",
   "execution_count": 38,
   "metadata": {},
   "outputs": [],
   "source": [
    "# 2. Text Vectorization\n",
    "vectorizer = CountVectorizer()\n",
    "X = vectorizer.fit_transform(df['Ulasan'])"
   ]
  },
  {
   "cell_type": "code",
   "execution_count": 39,
   "metadata": {},
   "outputs": [],
   "source": [
    "# Label Encoding\n",
    "le = LabelEncoder()\n",
    "y = le.fit_transform(df['Sentimen'])"
   ]
  },
  {
   "cell_type": "code",
   "execution_count": 40,
   "metadata": {},
   "outputs": [],
   "source": [
    "# 3. Ekstraksi Fitur (Hierarchical Dirichlet Process)\n",
    "texts = [ulasan.split() for ulasan in df['Ulasan']]\n",
    "dictionary = Dictionary(texts)\n",
    "corpus = [dictionary.doc2bow(text) for text in texts]\n",
    "hdp_model = HdpModel(corpus, id2word=dictionary)"
   ]
  },
  {
   "cell_type": "code",
   "execution_count": 41,
   "metadata": {},
   "outputs": [
    {
     "name": "stdout",
     "output_type": "stream",
     "text": [
      "Topik HDP:\n",
      "(0, [('maksa', 0.0045824006172974436), ('hanafashion', 0.004156158767931116), ('kertas', 0.004090166973172764), ('owner', 0.004079411976214477), ('in', 0.00401501167189705), ('fotoo', 0.003964421648274325), ('longgar', 0.003913759191617363), ('terima', 0.0038906254307967303), ('ngga', 0.003781565828896018), ('cepat', 0.003765555574432667), ('putiny', 0.003719900305769384), ('batalin', 0.0036669888721990165), ('resi', 0.003594678677659554), ('warna', 0.0035550579028884094), ('sdikit', 0.003415632392317027), ('cmn', 0.0034139895757075373), ('jaitanna', 0.003406109470270391), ('yaaa', 0.0033538966635554748), ('body', 0.0033030681048099083), ('samping', 0.003291776643538051)])\n",
      "(1, [('bnyk', 0.005984647176811784), ('ma', 0.004530514935379143), ('gw', 0.004180732309356786), ('pa', 0.00400026586580884), ('buwanget', 0.003991844023988196), ('recomanded', 0.003956065858211552), ('jaitanna', 0.0039285986660769915), ('sp', 0.0039046604604529695), ('outernya', 0.0036806944407124214), ('ademm', 0.003607897461826479), ('tanggap', 0.0034598268321313747), ('toko', 0.003391245100242688), ('direspon', 0.003255269907935455), ('ya', 0.003251848701297963), ('tua', 0.003184068605562464), ('tiga', 0.003122735566006974), ('pcs', 0.0030768063901826757), ('si', 0.003056203941520489), ('gerah', 0.0030425646515346415), ('sm', 0.0030391521264586372)])\n",
      "(2, [('resellernya', 0.005737559481847967), ('kasi', 0.004974493159901932), ('sale', 0.004576656610486928), ('time', 0.004552246795976574), ('noda', 0.004530702700101034), ('naikin', 0.004521037567791581), ('uy', 0.004445875325141484), ('tutup', 0.004342080428120683), ('trus', 0.004259536217334352), ('i', 0.004119530131960081), ('nanya', 0.004068713886334124), ('tes', 0.004010163232060497), ('nyesel', 0.003863730666131003), ('tks', 0.003786742535447429), ('kolor', 0.003494028637460719), ('purple', 0.0034761125569632216), ('model', 0.003215737469361051), ('syukur', 0.003203856704705309), ('dpakenya', 0.003184832372957423), ('pelayananya', 0.0031795698381984097)])\n",
      "(3, [('nya', 0.005357527923820214), ('dikit', 0.005148974117825179), ('lorot', 0.004999246907156599), ('kilo', 0.004770825590836334), ('udh', 0.0045608469080859245), ('emang', 0.004430135234892799), ('tsb', 0.004262749477723106), ('nov', 0.004210773345129405), ('wrnanya', 0.0040229960486991324), ('keren', 0.004017747517696859), ('ademm', 0.003910620810687909), ('lagis', 0.003826883954189741), ('depan', 0.0038236871263058257), ('ol', 0.0038086618808233054), ('lapor', 0.003751658347743914), ('plastik', 0.0037511746597068693), ('reng', 0.0035750692484621013), ('tokony', 0.0035262414511903917), ('jatoh', 0.003396967705483053), ('trimakasih', 0.003380839662285254)])\n",
      "(4, [('chart', 0.005146160906371097), ('sblmnya', 0.004916502186305008), ('beli', 0.004781263647822404), ('lebih', 0.004567178934194367), ('tubuh', 0.00450662491758382), ('paskualitas', 0.00447018480722384), ('wkwkw', 0.004315327274587118), ('jatuh', 0.004100655232070174), ('kondisi', 0.004019234152275794), ('rezeki', 0.00396950798653784), ('melar', 0.0038993327110682895), ('ol', 0.003895472332958306), ('bahanya', 0.0037964304935585724), ('mantaaaaaaaaaaaaaaaaaaaaaaaaaaaaaaaaaaaaaaaaaaaaaaaaaaaaaaaaaaaap', 0.0037290671125165074), ('dbdn', 0.0036407228860043054), ('cakeep', 0.003489563326832818), ('bilin', 0.0034517885930242407), ('murce', 0.003410707233236999), ('tsb', 0.003386306841817094), ('pundak', 0.0033854478948029134)])\n",
      "(5, [('shirt', 0.006338198374757962), ('siist', 0.005912108546122264), ('celana', 0.005383115248564783), ('wa', 0.004399551147972595), ('aja', 0.004307532053255784), ('lambat', 0.004280751926707344), ('rekomend', 0.004051825357211052), ('recomanded', 0.003951697008226448), ('sembarang', 0.003944110748451444), ('drpd', 0.0038184208641306445), ('modifikasi', 0.0038017111515741215), ('kirim', 0.0035958238878347525), ('buka', 0.003438643070737728), ('saking', 0.003425091948264685), ('purple', 0.0033486385427511597), ('gambar', 0.0033280890531676155), ('nih', 0.003159723395830719), ('dsni', 0.0031434090168636405), ('ngetat', 0.0031414011577360567), ('perhati', 0.00307934339792941)])\n",
      "(6, [('dehh', 0.006336838039653751), ('realpic', 0.005417007319546712), ('makasih', 0.005115486512556162), ('sicepat', 0.0048309790912821155), ('terbaikkk', 0.004425083331442996), ('nungguin', 0.004097615987723454), ('baguuuus', 0.004005762845511354), ('puasssss', 0.0038800824256086464), ('msh', 0.003819630921018886), ('resap', 0.003654520076125653), ('kemas', 0.003601642945576987), ('deskripsi', 0.003587148653060452), ('huhu', 0.0035218984249049262), ('sekian', 0.0035109520326715897), ('krg', 0.0034348164130247687), ('ku', 0.0034094017059675477), ('spek', 0.0034064993994342772), ('pesan', 0.00338311812310539), ('tdak', 0.003274608077766271), ('kalosaya', 0.003256993448346763)])\n",
      "(7, [('lucuuu', 0.005759285213122167), ('ckp', 0.005070442773234486), ('aga', 0.004451369874839855), ('panas', 0.003966908724262386), ('maroon', 0.003617398341607455), ('in', 0.0032898818079138744), ('dalam', 0.0032889792313163537), ('resp', 0.0032560591257589167), ('standard', 0.0032494026531621942), ('q', 0.0032290412623758517), ('ed', 0.0032129953815628136), ('tidur', 0.003168035977201222), ('bwhnya', 0.00316673664546214), ('tambah', 0.0031206464571593645), ('tolong', 0.0031090890001469105), ('kk', 0.003093257201836846), ('mudah', 0.003061537744243728), ('dpakenya', 0.0030454354840203208), ('rapih', 0.0029937581315872576), ('check', 0.002993041366325492)])\n",
      "(8, [('bingitt', 0.0059447142435456604), ('pny', 0.004878461066468847), ('mksih', 0.004834211719755301), ('elek', 0.004527867452532107), ('croptop', 0.004469308098540245), ('cropnya', 0.004099283038872825), ('tua', 0.0039605571026874505), ('pro', 0.003914716875154255), ('gatel', 0.00383930684921854), ('nyah', 0.0035616359344260913), ('gede', 0.0035118741554094066), ('rekomended', 0.0035077749196631308), ('bener', 0.003471157770480528), ('tipu', 0.003399102935184856), ('dpn', 0.0031559605264763354), ('tahan', 0.0031357719298316595), ('dsni', 0.0030999261052804296), ('ayank', 0.003084762530539856), ('cumaa', 0.0030771183578474693), ('dpakenya', 0.0030602554349501024)])\n",
      "(9, [('bangetttt', 0.005119378884628924), ('kucing', 0.0050177103583161405), ('pke', 0.004631681396060664), ('terawang', 0.004591982313917012), ('batwing', 0.004392585094801726), ('bokin', 0.004390193933574222), ('jaitannya', 0.003987260282229248), ('hitam', 0.0038840941711013603), ('sizenya', 0.003866578511239764), ('tas', 0.0037613854365377364), ('disaranin', 0.0033922143915441636), ('sengaja', 0.0033327182865426305), ('senerawang', 0.0032805723398912703), ('sale', 0.0032640924419057448), ('cherish', 0.0032575721012421005), ('banar', 0.0032095363887530426), ('siist', 0.0032027743061534162), ('hasil', 0.0031557005064650396), ('koq', 0.003080302036323708), ('return', 0.0030433289518956345)])\n",
      "(10, [('kirim', 0.0055693429258696185), ('tinggal', 0.004569753130767903), ('sumpah', 0.004321891115329676), ('sdh', 0.0041341023151088415), ('sip', 0.004074866516769617), ('navy', 0.003991571497600355), ('januari', 0.0038866938124645055), ('rumah', 0.003862990260097067), ('kwalitas', 0.003705368474486933), ('turut', 0.0036146308057589146), ('teball', 0.0035469580704683983), ('bagusp', 0.0034422170896451602), ('trendy', 0.0034311160074552167), ('semi', 0.0033613955506178453), ('jatona', 0.0033333055552580725), ('kenal', 0.003299558191036741), ('ended', 0.0032730232355890174), ('fotoo', 0.0032583793281925908), ('solusi', 0.0032002916953249813), ('ramah', 0.00315107001311022)])\n",
      "(11, [('update', 0.005044888570804099), ('h', 0.004810757381483093), ('blm', 0.004554337804971855), ('tengkyu', 0.00405747833371825), ('beli', 0.0040376016217191805), ('iyaa', 0.003948458037492069), ('kun', 0.0038621998165408256), ('and', 0.0037184440937444046), ('wkwk', 0.003703344699354109), ('lucuuu', 0.0036856857804250546), ('tetep', 0.0036573705661212537), ('beliin', 0.0036523546400674773), ('is', 0.003627836236182918), ('hehee', 0.0035450856206669873), ('maaf', 0.0035303016783935297), ('as', 0.003445592033079074), ('lmyn', 0.0033509007138415666), ('just', 0.003333294107617985), ('all', 0.003331959110001921), ('nice', 0.0032555185984229746)])\n",
      "(12, [('asa', 0.006001336302986042), ('tebal', 0.005999037368310739), ('buka', 0.0057020649188053414), ('poko', 0.004833158901568979), ('harga', 0.004752266481408439), ('nyaaa', 0.004734997590311979), ('bnyk', 0.004565362024248375), ('bagusnyaa', 0.0045647107782065145), ('asli', 0.004357357385861782), ('udah', 0.004304879765564606), ('lebihteliti', 0.0042556933223088225), ('ntah', 0.003891964289616309), ('thankyou', 0.0035527193895645783), ('terawang', 0.003540079219446732), ('trimakasii', 0.003516941325824895), ('expectasi', 0.0034200056727965323), ('kuning', 0.003331224874118363), ('fittingnya', 0.003260259394941037), ('dbdn', 0.003233443064907417), ('mintiib', 0.0032010400091028743)])\n",
      "(13, [('kasih', 0.005495702075560223), ('ruang', 0.004077709231333858), ('cuttingnya', 0.004017451499426962), ('wa', 0.0039529057393110235), ('lengan', 0.0037705252682557083), ('mksh', 0.003733573260224147), ('adeam', 0.0036373036609061668), ('it', 0.0035827593258350296), ('pikir', 0.0035437877035393384), ('awet', 0.0035237811679165554), ('pkek', 0.0034898587204376216), ('dsni', 0.0034635188983278336), ('jelas', 0.0034247799835577285), ('mksih', 0.003272252734767122), ('lengkap', 0.0031133828861888524), ('kali', 0.003070421604808722), ('tahan', 0.003052006606548744), ('btw', 0.003026838109428181), ('lime', 0.002877845425845257), ('enteng', 0.002856477919922725)])\n",
      "(14, [('bertanggungjawab', 0.005822102991275437), ('banget', 0.0044228458536204225), ('instan', 0.004353920858011699), ('mantaaaaaap', 0.004198222089651029), ('check', 0.0041861440269652436), ('sizenya', 0.00406519690375991), ('astaga', 0.0039413716809510915), ('an', 0.0038700694081167347), ('bicara', 0.0038146916124235505), ('ed', 0.00381042027307435), ('pinggang', 0.003387890599415841), ('ppanas', 0.003321964773269735), ('tepi', 0.0033175098743210845), ('gaes', 0.0032958839229648516), ('riah', 0.003241603653876829), ('seksih', 0.003217923543903168), ('nomer', 0.0031815950307942974), ('online', 0.0031699876569351495), ('material', 0.0031646309368051724), ('outter', 0.003121797083523415)])\n",
      "(15, [('red', 0.004713277298951481), ('diiket', 0.004680289633775845), ('anak', 0.004295602644537389), ('wajib', 0.004280573281654608), ('ungu', 0.0040966213519631), ('mksh', 0.004061043658122838), ('gombal', 0.003961403818085385), ('beranrakan', 0.0036810117328283736), ('arrived', 0.0036169635863676844), ('meny', 0.0035262184296376586), ('tangan', 0.003515568151284723), ('merah', 0.0035050875252532723), ('up', 0.0034499724801529204), ('haha', 0.0034346502375363418), ('ekspetasi', 0.0032888910662405594), ('cuci', 0.0032280570221312494), ('ketat', 0.0031478914511665888), ('biar', 0.0031287529588064377), ('kainny', 0.003106398539133713), ('refund', 0.00307578441769576)])\n",
      "(16, [('modifikasi', 0.006466795348888164), ('cuna', 0.006244250649808041), ('tokony', 0.004818493055724047), ('nih', 0.0041663786657639805), ('seksih', 0.0041157853630590996), ('day', 0.004038267806101944), ('bagis', 0.004033049173113055), ('kalosaya', 0.0038655915919602953), ('sorry', 0.0038457391407981704), ('nyoba', 0.003762474515134881), ('ter', 0.003691320721585322), ('bajuu', 0.0036855085093331114), ('gais', 0.0035599930867321605), ('batwing', 0.003489375298976419), ('bangett', 0.0034833501195386213), ('order', 0.003327568023816954), ('mantulll', 0.003271763915039437), ('stgh', 0.003180455213092217), ('puas', 0.003141880997882399), ('toped', 0.00310276708376169)])\n",
      "(17, [('nice', 0.005727639957236331), ('pink', 0.005380797902045468), ('premium', 0.004537314862601607), ('bnykkk', 0.0043542388923840545), ('mantaaaaaaaaaaaaaaaaaaaaaaaaaaaaaaaaaaaaaaaaaaaaaaaaaaaaaaaaaaaap', 0.004298302059464922), ('ssuai', 0.004206818575518078), ('keeper', 0.004144946202688313), ('esoke', 0.0038842590430659767), ('makasihhh', 0.003709384019828578), ('jual', 0.0035440528092984726), ('kencang', 0.003472724562584917), ('packaging', 0.0034570170719446605), ('maron', 0.003425467179075847), ('abis', 0.0034179607833391434), ('kecil', 0.0032778457750262), ('mesikipun', 0.0030941171372200933), ('belanja', 0.0030689527309853137), ('lingerie', 0.00302250734054615), ('realita', 0.003020120440147041), ('warna', 0.0030201085550646675)])\n",
      "(18, [('lentur', 0.005200409369102454), ('udh', 0.0042631387709621), ('dusty', 0.004215929074278945), ('ama', 0.004098063093351294), ('nyangka', 0.0040651761856698755), ('remaja', 0.003926914007736845), ('baguusss', 0.0038936146171008783), ('bawa', 0.003661463414937411), ('relaxing', 0.003520436204137186), ('murah', 0.0034370957651741188), ('langgan', 0.003352104675613183), ('label', 0.003341744517783185), ('kaleng', 0.0033167368294868076), ('gaan', 0.003230326208519671), ('instan', 0.0030622216961803356), ('zzzzzzz', 0.003057099862683555), ('gpp', 0.0030236568256251537), ('l', 0.0030129395880371074), ('tes', 0.0030073245997866483), ('moga', 0.002999274290801343)])\n",
      "(19, [('ssuai', 0.005152460378407049), ('out', 0.00491486213773956), ('from', 0.0048912428382747305), ('salernya', 0.004514664156236819), ('tanggap', 0.004492070495467766), ('xxxl', 0.0043348221456748605), ('bentuk', 0.004018081265625022), ('ld', 0.003933070886547325), ('q', 0.003703729987854881), ('tube', 0.003680881761935279), ('cz', 0.003657954032635049), ('kembennya', 0.003523408712410071), ('tau', 0.00347028996026585), ('manteppp', 0.003403461588450105), ('semangat', 0.003386948546187288), ('murce', 0.0033809775324001646), ('potong', 0.0033597245743620207), ('tali', 0.0033388966929395613), ('bikin', 0.003263763118110747), ('tiba', 0.0032167266595786565)])\n"
     ]
    }
   ],
   "source": [
    "# Menampilkan topik HDP\n",
    "topik_hdp = hdp_model.show_topics(formatted=False)\n",
    "print(\"Topik HDP:\")\n",
    "for topik in topik_hdp:\n",
    "    print(topik)"
   ]
  },
  {
   "cell_type": "code",
   "execution_count": 46,
   "metadata": {},
   "outputs": [
    {
     "name": "stdout",
     "output_type": "stream",
     "text": [
      "\n",
      "Skor Koherensi untuk tiap topik:\n"
     ]
    },
    {
     "data": {
      "text/html": [
       "<div>\n",
       "<style scoped>\n",
       "    .dataframe tbody tr th:only-of-type {\n",
       "        vertical-align: middle;\n",
       "    }\n",
       "\n",
       "    .dataframe tbody tr th {\n",
       "        vertical-align: top;\n",
       "    }\n",
       "\n",
       "    .dataframe thead th {\n",
       "        text-align: right;\n",
       "    }\n",
       "</style>\n",
       "<table border=\"1\" class=\"dataframe\">\n",
       "  <thead>\n",
       "    <tr style=\"text-align: right;\">\n",
       "      <th></th>\n",
       "      <th>Jumlah Topik</th>\n",
       "      <th>Skor Coherence</th>\n",
       "    </tr>\n",
       "  </thead>\n",
       "  <tbody>\n",
       "    <tr>\n",
       "      <th>0</th>\n",
       "      <td>1</td>\n",
       "      <td>0.761492</td>\n",
       "    </tr>\n",
       "    <tr>\n",
       "      <th>1</th>\n",
       "      <td>2</td>\n",
       "      <td>0.747949</td>\n",
       "    </tr>\n",
       "    <tr>\n",
       "      <th>2</th>\n",
       "      <td>3</td>\n",
       "      <td>0.771252</td>\n",
       "    </tr>\n",
       "    <tr>\n",
       "      <th>3</th>\n",
       "      <td>4</td>\n",
       "      <td>0.755569</td>\n",
       "    </tr>\n",
       "    <tr>\n",
       "      <th>4</th>\n",
       "      <td>5</td>\n",
       "      <td>0.760930</td>\n",
       "    </tr>\n",
       "    <tr>\n",
       "      <th>5</th>\n",
       "      <td>6</td>\n",
       "      <td>0.760552</td>\n",
       "    </tr>\n",
       "    <tr>\n",
       "      <th>6</th>\n",
       "      <td>7</td>\n",
       "      <td>0.802551</td>\n",
       "    </tr>\n",
       "    <tr>\n",
       "      <th>7</th>\n",
       "      <td>8</td>\n",
       "      <td>0.804538</td>\n",
       "    </tr>\n",
       "    <tr>\n",
       "      <th>8</th>\n",
       "      <td>9</td>\n",
       "      <td>0.806186</td>\n",
       "    </tr>\n",
       "    <tr>\n",
       "      <th>9</th>\n",
       "      <td>10</td>\n",
       "      <td>0.786098</td>\n",
       "    </tr>\n",
       "    <tr>\n",
       "      <th>10</th>\n",
       "      <td>11</td>\n",
       "      <td>0.763240</td>\n",
       "    </tr>\n",
       "    <tr>\n",
       "      <th>11</th>\n",
       "      <td>12</td>\n",
       "      <td>0.770397</td>\n",
       "    </tr>\n",
       "    <tr>\n",
       "      <th>12</th>\n",
       "      <td>13</td>\n",
       "      <td>0.774910</td>\n",
       "    </tr>\n",
       "    <tr>\n",
       "      <th>13</th>\n",
       "      <td>14</td>\n",
       "      <td>0.772985</td>\n",
       "    </tr>\n",
       "    <tr>\n",
       "      <th>14</th>\n",
       "      <td>15</td>\n",
       "      <td>0.789423</td>\n",
       "    </tr>\n",
       "    <tr>\n",
       "      <th>15</th>\n",
       "      <td>16</td>\n",
       "      <td>0.779858</td>\n",
       "    </tr>\n",
       "    <tr>\n",
       "      <th>16</th>\n",
       "      <td>17</td>\n",
       "      <td>0.759991</td>\n",
       "    </tr>\n",
       "    <tr>\n",
       "      <th>17</th>\n",
       "      <td>18</td>\n",
       "      <td>0.758953</td>\n",
       "    </tr>\n",
       "    <tr>\n",
       "      <th>18</th>\n",
       "      <td>19</td>\n",
       "      <td>0.749273</td>\n",
       "    </tr>\n",
       "    <tr>\n",
       "      <th>19</th>\n",
       "      <td>20</td>\n",
       "      <td>0.801298</td>\n",
       "    </tr>\n",
       "  </tbody>\n",
       "</table>\n",
       "</div>"
      ],
      "text/plain": [
       "    Jumlah Topik  Skor Coherence\n",
       "0              1        0.761492\n",
       "1              2        0.747949\n",
       "2              3        0.771252\n",
       "3              4        0.755569\n",
       "4              5        0.760930\n",
       "5              6        0.760552\n",
       "6              7        0.802551\n",
       "7              8        0.804538\n",
       "8              9        0.806186\n",
       "9             10        0.786098\n",
       "10            11        0.763240\n",
       "11            12        0.770397\n",
       "12            13        0.774910\n",
       "13            14        0.772985\n",
       "14            15        0.789423\n",
       "15            16        0.779858\n",
       "16            17        0.759991\n",
       "17            18        0.758953\n",
       "18            19        0.749273\n",
       "19            20        0.801298"
      ]
     },
     "execution_count": 46,
     "metadata": {},
     "output_type": "execute_result"
    }
   ],
   "source": [
    "# Menghitung skor koherensi\n",
    "coherence_model_hdp = CoherenceModel(model=hdp_model, texts=texts, dictionary=dictionary, coherence='c_v')\n",
    "coherence_scores = coherence_model_hdp.get_coherence_per_topic()\n",
    "\n",
    "# Membuat DataFrame untuk skor koherensi\n",
    "num_topics = list(range(1, len(coherence_scores) + 1))\n",
    "coherence_df = pd.DataFrame({'Jumlah Topik': num_topics, 'Skor Coherence': coherence_scores})\n",
    "\n",
    "print(\"\\nSkor Koherensi untuk tiap topik:\")\n",
    "coherence_df.head(20)"
   ]
  },
  {
   "cell_type": "code",
   "execution_count": 43,
   "metadata": {},
   "outputs": [],
   "source": [
    "# Mengonversi HDP menjadi fitur\n",
    "X_hdp = np.zeros((len(corpus), hdp_model.m_T))\n",
    "for i, doc in enumerate(corpus):\n",
    "    for topic_id, weight in hdp_model[doc]:\n",
    "        if topic_id < hdp_model.m_T:\n",
    "            X_hdp[i, topic_id] = weight"
   ]
  },
  {
   "cell_type": "code",
   "execution_count": 44,
   "metadata": {},
   "outputs": [],
   "source": [
    "# 4. Klasifikasi menggunakan SVM\n",
    "X_train, X_test, y_train, y_test = train_test_split(X_hdp, y, test_size=0.2, random_state=42)\n",
    "svm = SVC(kernel='linear')\n",
    "svm.fit(X_train, y_train)\n",
    "y_pred = svm.predict(X_test)"
   ]
  },
  {
   "cell_type": "code",
   "execution_count": 45,
   "metadata": {},
   "outputs": [
    {
     "name": "stdout",
     "output_type": "stream",
     "text": [
      "\n",
      "Classification Report:\n",
      "              precision    recall  f1-score   support\n",
      "\n",
      "     Negatif       0.00      0.00      0.00        23\n",
      "     Positif       0.88      1.00      0.94       167\n",
      "\n",
      "    accuracy                           0.88       190\n",
      "   macro avg       0.44      0.50      0.47       190\n",
      "weighted avg       0.77      0.88      0.82       190\n",
      "\n"
     ]
    },
    {
     "name": "stderr",
     "output_type": "stream",
     "text": [
      "c:\\Users\\Muhammad Ade Aulia\\miniconda3\\envs\\gpu_load\\lib\\site-packages\\sklearn\\metrics\\_classification.py:1509: UndefinedMetricWarning: Precision is ill-defined and being set to 0.0 in labels with no predicted samples. Use `zero_division` parameter to control this behavior.\n",
      "  _warn_prf(average, modifier, f\"{metric.capitalize()} is\", len(result))\n",
      "c:\\Users\\Muhammad Ade Aulia\\miniconda3\\envs\\gpu_load\\lib\\site-packages\\sklearn\\metrics\\_classification.py:1509: UndefinedMetricWarning: Precision is ill-defined and being set to 0.0 in labels with no predicted samples. Use `zero_division` parameter to control this behavior.\n",
      "  _warn_prf(average, modifier, f\"{metric.capitalize()} is\", len(result))\n",
      "c:\\Users\\Muhammad Ade Aulia\\miniconda3\\envs\\gpu_load\\lib\\site-packages\\sklearn\\metrics\\_classification.py:1509: UndefinedMetricWarning: Precision is ill-defined and being set to 0.0 in labels with no predicted samples. Use `zero_division` parameter to control this behavior.\n",
      "  _warn_prf(average, modifier, f\"{metric.capitalize()} is\", len(result))\n"
     ]
    }
   ],
   "source": [
    "# 5. Evaluasi classification report\n",
    "print(\"\\nClassification Report:\")\n",
    "print(classification_report(y_test, y_pred, target_names=le.classes_))"
   ]
  },
  {
   "cell_type": "code",
   "execution_count": null,
   "metadata": {},
   "outputs": [],
   "source": []
  }
 ],
 "metadata": {
  "kernelspec": {
   "display_name": "gpu_load",
   "language": "python",
   "name": "python3"
  },
  "language_info": {
   "codemirror_mode": {
    "name": "ipython",
    "version": 3
   },
   "file_extension": ".py",
   "mimetype": "text/x-python",
   "name": "python",
   "nbconvert_exporter": "python",
   "pygments_lexer": "ipython3",
   "version": "3.10.14"
  }
 },
 "nbformat": 4,
 "nbformat_minor": 2
}
