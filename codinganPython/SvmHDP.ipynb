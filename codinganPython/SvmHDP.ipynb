{
 "cells": [
  {
   "cell_type": "code",
   "execution_count": 1,
   "metadata": {},
   "outputs": [
    {
     "name": "stderr",
     "output_type": "stream",
     "text": [
      "[nltk_data] Downloading package punkt to C:\\Users\\Muhammad Ade\n",
      "[nltk_data]     Aulia\\AppData\\Roaming\\nltk_data...\n",
      "[nltk_data]   Package punkt is already up-to-date!\n",
      "[nltk_data] Downloading package stopwords to C:\\Users\\Muhammad Ade\n",
      "[nltk_data]     Aulia\\AppData\\Roaming\\nltk_data...\n",
      "[nltk_data]   Package stopwords is already up-to-date!\n"
     ]
    },
    {
     "data": {
      "text/plain": [
       "True"
      ]
     },
     "execution_count": 1,
     "metadata": {},
     "output_type": "execute_result"
    }
   ],
   "source": [
    "import pandas as pd\n",
    "import numpy as np\n",
    "from sklearn.feature_extraction.text import CountVectorizer\n",
    "from sklearn.preprocessing import LabelEncoder\n",
    "from sklearn.model_selection import train_test_split\n",
    "from sklearn.svm import SVC\n",
    "from sklearn.metrics import classification_report\n",
    "from gensim.models import HdpModel, CoherenceModel\n",
    "from gensim.corpora import Dictionary\n",
    "from nltk.corpus import stopwords\n",
    "from nltk.tokenize import word_tokenize\n",
    "import re\n",
    "import nltk\n",
    "\n",
    "nltk.download('punkt')\n",
    "nltk.download('stopwords')"
   ]
  },
  {
   "cell_type": "code",
   "execution_count": 2,
   "metadata": {},
   "outputs": [
    {
     "data": {
      "text/html": [
       "<div>\n",
       "<style scoped>\n",
       "    .dataframe tbody tr th:only-of-type {\n",
       "        vertical-align: middle;\n",
       "    }\n",
       "\n",
       "    .dataframe tbody tr th {\n",
       "        vertical-align: top;\n",
       "    }\n",
       "\n",
       "    .dataframe thead th {\n",
       "        text-align: right;\n",
       "    }\n",
       "</style>\n",
       "<table border=\"1\" class=\"dataframe\">\n",
       "  <thead>\n",
       "    <tr style=\"text-align: right;\">\n",
       "      <th></th>\n",
       "      <th>Ulasan</th>\n",
       "      <th>Sentimen</th>\n",
       "    </tr>\n",
       "  </thead>\n",
       "  <tbody>\n",
       "    <tr>\n",
       "      <th>0</th>\n",
       "      <td>ulas</td>\n",
       "      <td>Negatif</td>\n",
       "    </tr>\n",
       "    <tr>\n",
       "      <th>2</th>\n",
       "      <td>bahan aja warna navy nya beda</td>\n",
       "      <td>Negatif</td>\n",
       "    </tr>\n",
       "    <tr>\n",
       "      <th>3</th>\n",
       "      <td>kasih catat order warna kuning navy baca kirim...</td>\n",
       "      <td>Negatif</td>\n",
       "    </tr>\n",
       "    <tr>\n",
       "      <th>4</th>\n",
       "      <td>kecil</td>\n",
       "      <td>Negatif</td>\n",
       "    </tr>\n",
       "    <tr>\n",
       "      <th>5</th>\n",
       "      <td>tau layan</td>\n",
       "      <td>Negatif</td>\n",
       "    </tr>\n",
       "    <tr>\n",
       "      <th>...</th>\n",
       "      <td>...</td>\n",
       "      <td>...</td>\n",
       "    </tr>\n",
       "    <tr>\n",
       "      <th>989</th>\n",
       "      <td>cocok</td>\n",
       "      <td>Negatif</td>\n",
       "    </tr>\n",
       "    <tr>\n",
       "      <th>990</th>\n",
       "      <td>barang selamat terima kasih bahan celana nya s...</td>\n",
       "      <td>Negatif</td>\n",
       "    </tr>\n",
       "    <tr>\n",
       "      <th>992</th>\n",
       "      <td>pesan cuna barang rusak coba konfirmasi tanggap</td>\n",
       "      <td>Negatif</td>\n",
       "    </tr>\n",
       "    <tr>\n",
       "      <th>993</th>\n",
       "      <td>karet pinggang nya kencang</td>\n",
       "      <td>Negatif</td>\n",
       "    </tr>\n",
       "    <tr>\n",
       "      <th>994</th>\n",
       "      <td>aja mahal sih hrg segitu</td>\n",
       "      <td>Negatif</td>\n",
       "    </tr>\n",
       "  </tbody>\n",
       "</table>\n",
       "<p>946 rows × 2 columns</p>\n",
       "</div>"
      ],
      "text/plain": [
       "                                                Ulasan Sentimen\n",
       "0                                                 ulas  Negatif\n",
       "2                        bahan aja warna navy nya beda  Negatif\n",
       "3    kasih catat order warna kuning navy baca kirim...  Negatif\n",
       "4                                                kecil  Negatif\n",
       "5                                            tau layan  Negatif\n",
       "..                                                 ...      ...\n",
       "989                                              cocok  Negatif\n",
       "990  barang selamat terima kasih bahan celana nya s...  Negatif\n",
       "992    pesan cuna barang rusak coba konfirmasi tanggap  Negatif\n",
       "993                         karet pinggang nya kencang  Negatif\n",
       "994                           aja mahal sih hrg segitu  Negatif\n",
       "\n",
       "[946 rows x 2 columns]"
      ]
     },
     "execution_count": 2,
     "metadata": {},
     "output_type": "execute_result"
    }
   ],
   "source": [
    "# Load data from CSV file\n",
    "df = pd.read_csv('../data/dataHasilPreprocessing/dataPreprocessing.csv')  # Ganti dengan path file Anda\n",
    "df = df.drop_duplicates(subset=['Ulasan'])\n",
    "df = df.dropna()\n",
    "df"
   ]
  },
  {
   "cell_type": "code",
   "execution_count": 3,
   "metadata": {},
   "outputs": [],
   "source": [
    "# 2. Text Vectorization\n",
    "vectorizer = CountVectorizer()\n",
    "X = vectorizer.fit_transform(df['Ulasan'])"
   ]
  },
  {
   "cell_type": "code",
   "execution_count": 4,
   "metadata": {},
   "outputs": [],
   "source": [
    "# Label Encoding\n",
    "le = LabelEncoder()\n",
    "y = le.fit_transform(df['Sentimen'])"
   ]
  },
  {
   "cell_type": "code",
   "execution_count": 5,
   "metadata": {},
   "outputs": [],
   "source": [
    "# 3. Ekstraksi Fitur (Hierarchical Dirichlet Process)\n",
    "texts = [ulasan.split() for ulasan in df['Ulasan']]\n",
    "dictionary = Dictionary(texts)\n",
    "corpus = [dictionary.doc2bow(text) for text in texts]\n",
    "hdp_model = HdpModel(corpus, id2word=dictionary)"
   ]
  },
  {
   "cell_type": "code",
   "execution_count": 6,
   "metadata": {},
   "outputs": [
    {
     "name": "stdout",
     "output_type": "stream",
     "text": [
      "Topik HDP:\n",
      "(0, [('trmks', 0.004900698466158639), ('dadak', 0.004596919021991252), ('nyerep', 0.004489045659941597), ('order', 0.004190719515538947), ('you', 0.004027588570059528), ('utknini', 0.0039443486837279105), ('wajib', 0.003864449749293915), ('kait', 0.0038470701339477467), ('ademmm', 0.003555823090265283), ('menrt', 0.0035422246729427775), ('gt', 0.0035242686330645926), ('bulu', 0.0035034617762166277), ('keduaaa', 0.003495812359586424), ('hrga', 0.003400973852302613), ('rapihh', 0.0033920581781943463), ('confidence', 0.0033664558973947436), ('dapet', 0.0033239449931626707), ('video', 0.003299944776740896), ('maroom', 0.0032539436613667483), ('boarding', 0.0032293967351226948)])\n",
      "(1, [('kuat', 0.006161014085006933), ('ta', 0.004816858441857924), ('sen', 0.004636780074283628), ('depan', 0.004373089111185836), ('coklat', 0.0041441683662584205), ('excellent', 0.004053029319523436), ('bet', 0.00402148327950938), ('wkwkwk', 0.00395143577876592), ('dikit', 0.003730888905785321), ('balas', 0.0036822672584797093), ('confirm', 0.003666454024735309), ('respond', 0.00360149598937785), ('xs', 0.003488125085754223), ('kya', 0.0034491235416871015), ('putih', 0.0033457374849187667), ('sm', 0.003340568777798323), ('mintiib', 0.0033121886619345976), ('cepat', 0.003248927046286036), ('smoga', 0.0031619742637300267), ('yng', 0.0031391431844102024)])\n",
      "(2, [('olahragaa', 0.0065160617153851045), ('brick', 0.005571399251586699), ('reng', 0.004528949600716736), ('cakep', 0.004341328986071669), ('item', 0.0040254970841175205), ('aduh', 0.003564911375461957), ('i', 0.0035628460178443377), ('pol', 0.0035482804611422602), ('celana', 0.003513867234139389), ('hirau', 0.003513385181733876), ('makenya', 0.0034493359729044484), ('pakai', 0.003426433835524998), ('muraah', 0.0034232852328960352), ('noda', 0.00338584344919293), ('unt', 0.003348142461683579), ('bubbling', 0.0033387131721054728), ('bagi', 0.003270799882328716), ('gercep', 0.003237461542688005), ('samp', 0.003207017581423999), ('jatuh', 0.0030041297104990883)])\n",
      "(3, [('doang', 0.0064806444370298704), ('samping', 0.0059905896252081875), ('ruang', 0.00521837740274643), ('adeam', 0.0049625804494866955), ('baguusss', 0.00488642498567818), ('promonya', 0.004843678805507458), ('banget', 0.004764876831665228), ('ato', 0.004555411036088583), ('nrawang', 0.004495123768563898), ('its', 0.004254651575697438), ('bajget', 0.004073068294449371), ('sukaaaa', 0.00406325898220628), ('kali', 0.003841618218295013), ('stlh', 0.003834752778347216), ('gabisa', 0.003726897514550308), ('wrn', 0.0035116637202223136), ('w', 0.0035064487891098596), ('depan', 0.0034964684172130657), ('emang', 0.0032979650220541284), ('cardigannya', 0.0032541909069005387)])\n",
      "(4, [('lamaaaaa', 0.005235620351251118), ('da', 0.004916446726068837), ('jatona', 0.004705350036056789), ('dua', 0.004507264044317938), ('tangan', 0.004347744303252384), ('dalam', 0.0038153531074687536), ('coral', 0.0037571394441697184), ('cakeup', 0.0037430498761326725), ('nang', 0.003718972256694232), ('kyk', 0.003709907033115618), ('tebal', 0.0036771053536155066), ('alhamdulillah', 0.003673025281322122), ('jeanss', 0.003588048073460277), ('baguss', 0.0035721938632871262), ('customerized', 0.003562710824470572), ('paass', 0.003562000741588923), ('ukur', 0.0035599044048121734), ('size', 0.003529464153314292), ('kwalitas', 0.0033783611409757513), ('patok', 0.0033150777796815013)])\n",
      "(5, [('stoke', 0.004940685889925119), ('ganggu', 0.004636656524310521), ('kirain', 0.004501881344081889), ('cangtip', 0.004370421359565664), ('buka', 0.003863085884650985), ('lurus', 0.0037696615847224663), ('love', 0.0037008065835853273), ('stretch', 0.003626988150445982), ('gantung', 0.0036142136363784094), ('i', 0.003527156624576054), ('isi', 0.003413359502577347), ('kasih', 0.00340295263786301), ('olahraga', 0.0032768324814355047), ('gatel', 0.0032700062998441996), ('dada', 0.0032598673195223444), ('puasssss', 0.00325348654538454), ('sempit', 0.0031579538988721506), ('bahah', 0.00309454141918781), ('badan', 0.0030816187414306182), ('hr', 0.0030753158894582266)])\n",
      "(6, [('adain', 0.005211463392957653), ('adem', 0.0047563483424556624), ('bagis', 0.0046877910997560075), ('pikir', 0.004559558351383784), ('joz', 0.0044475292837136875), ('bilin', 0.004348359960830725), ('mantap', 0.004331965412226632), ('pokok', 0.004250678219399538), ('ketek', 0.0042159132899438935), ('huuft', 0.004048677315742678), ('panjang', 0.00384988958656894), ('tangan', 0.0037728004150892184), ('tua', 0.0036830267829737855), ('nyobain', 0.0036735857579566528), ('sentuh', 0.003527329275817779), ('ina', 0.003520304756519135), ('bel', 0.0034200387010781194), ('ribu', 0.0033321162309520305), ('dress', 0.0033164412065037076), ('si', 0.0033028952093238913)])\n",
      "(7, [('fotoo', 0.005968310944838397), ('kertas', 0.005095192679962914), ('baguss', 0.005025752204857748), ('kalo', 0.004406328547276498), ('tanggal', 0.004365161696137996), ('uang', 0.004313173135844475), ('hari', 0.0042432671030141955), ('cd', 0.004142204095436414), ('sumpahhh', 0.004036311894150378), ('gabikin', 0.003862200142319465), ('kmarin', 0.0037142365877951694), ('owner', 0.0035568267617508563), ('pinggan', 0.0035565775479725046), ('sdh', 0.0035565588851889656), ('diiket', 0.003536639565088286), ('versi', 0.0035334783639527287), ('baik', 0.00344137112011102), ('siiihh', 0.0033905353651385952), ('modifikasi', 0.0033250753284778988), ('cardigan', 0.0033247138737213795)])\n",
      "(8, [('tahan', 0.005107099988219975), ('cup', 0.004877782750036139), ('bwhnya', 0.004054761849279915), ('rambut', 0.003978625149431587), ('deh', 0.0038234895617688847), ('min', 0.003813595813177527), ('samping', 0.0037784523507282497), ('akhirn', 0.0036039014629588744), ('hati', 0.0035388761002422883), ('kaliii', 0.003517661478312253), ('oke', 0.0034935274550671014), ('hrsnya', 0.003453550683776173), ('tawar', 0.003414387553424284), ('ld', 0.0034058056601692743), ('sampai', 0.003293660769159845), ('looks', 0.003264452438378766), ('bintang', 0.003262581606174795), ('maron', 0.0032274188731611204), ('ed', 0.0032254454250617718), ('bahanny', 0.003202856494622782)])\n",
      "(9, [('an', 0.004990811178234799), ('tsb', 0.0049388780334378634), ('jeanss', 0.004027533672713139), ('fungsi', 0.003964132634224424), ('informatif', 0.003914022253101854), ('hana', 0.003689381506984199), ('oversize', 0.003676777934936638), ('stock', 0.003622643744674813), ('kq', 0.003565997161614635), ('oke', 0.0034677337058286986), ('sdh', 0.0033949100407523547), ('abu', 0.003355305873786024), ('hrga', 0.0032905120247952143), ('ac', 0.003282533857807513), ('belel', 0.0032674082189465916), ('bwhnya', 0.0031638738295966273), ('are', 0.003160670228597406), ('responn', 0.0030905850544841983), ('lihat', 0.0030003647476228336), ('jatohnya', 0.0029839307910595795)])\n",
      "(10, [('mas', 0.005161938222288982), ('kirim', 0.004174239777876729), ('ukurang', 0.004149196196550108), ('bnget', 0.004138540736143039), ('miniset', 0.00405144796266918), ('l', 0.004020704754614564), ('its', 0.003934750733493605), ('tidur', 0.003920668664429372), ('ganggu', 0.0038545346213490306), ('okeoke', 0.00385319939428577), ('yah', 0.0036273041524930226), ('kalopesan', 0.003589983411453172), ('jual', 0.003574770846767317), ('santai', 0.0035284437088876795), ('balas', 0.0035120061386089327), ('bahannnyaa', 0.003501480285908294), ('sebenernya', 0.003454892881546896), ('kaus', 0.0033874576909537373), ('say', 0.0033491007091491468), ('langsung', 0.0033199359768696377)])\n",
      "(11, [('respon', 0.005482336895174199), ('jenis', 0.00540958445154818), ('bb', 0.005137583653130895), ('paass', 0.004558646079810899), ('ok', 0.00410011247879392), ('belah', 0.004075741962788133), ('pundak', 0.0039655560106897116), ('bangeettt', 0.003755935950429665), ('bener', 0.003692977057000767), ('yaaa', 0.0036799783162954256), ('all', 0.0035962120915002164), ('tawar', 0.003569127513943825), ('pnjg', 0.0035388001944161303), ('chatroom', 0.0034961957365925917), ('ah', 0.003467859085192403), ('surprisingly', 0.0033040357207755494), ('t', 0.0032805079709623272), ('packingan', 0.003170114362987817), ('kak', 0.0031589530992969217), ('kaleng', 0.003100808452529438)])\n",
      "(12, [('termasul', 0.00621713914531307), ('enak', 0.0061714907083042485), ('sekian', 0.005294184209796811), ('fit', 0.004918065877319602), ('parah', 0.00463509269528878), ('cantik', 0.004041520328518931), ('oom', 0.004029901122207371), ('mesan', 0.004027206248584779), ('ekspetasi', 0.003769700074150635), ('bnykkk', 0.0037242790347791956), ('sumpah', 0.003674017756865671), ('sukses', 0.0035266705775380256), ('mari', 0.0035226368403950548), ('chiffon', 0.003492917612546994), ('always', 0.003455925226179529), ('ehhh', 0.003360069838953109), ('confidence', 0.003350033090391471), ('rapi', 0.0032715700832106147), ('murce', 0.003213830656729171), ('tingkat', 0.0031857868931209773)])\n",
      "(13, [('dsni', 0.005889634087026163), ('anak', 0.005560520036135787), ('neng', 0.00486269261152499), ('nyangka', 0.004783033643400559), ('gituu', 0.004646399557118209), ('btw', 0.0042827396228644465), ('kaya', 0.0038652080985047224), ('grey', 0.003840777165549288), ('will', 0.003782349573089545), ('da', 0.0036870287861253824), ('abis', 0.0036865974510599886), ('day', 0.0036177885636424116), ('fittingnya', 0.003433330815007835), ('delivery', 0.003366499869949995), ('segitu', 0.0033571514041210813), ('celana', 0.003332074444613827), ('ma', 0.003307748238642144), ('kaliii', 0.0032146776010228686), ('suak', 0.003206425697659033), ('courier', 0.003172317738253563)])\n",
      "(14, [('ruang', 0.006068017367902859), ('promonya', 0.005670011535433331), ('nuker', 0.004912394770785234), ('santai', 0.00480122979370991), ('bnr', 0.004623730823289889), ('gais', 0.004291217918458803), ('serap', 0.004179584584580433), ('stgh', 0.0041463163257587305), ('kayaknyaa', 0.004133518398362271), ('mambo', 0.004110939126426802), ('kun', 0.0038597305853882314), ('eh', 0.0038187912015135795), ('sm', 0.0037824514367098654), ('nyesal', 0.0037223632353574256), ('ber', 0.003461890930237298), ('modifikasi', 0.0034303953238904714), ('kakaa', 0.0033703091349474214), ('an', 0.003358994007640339), ('ko', 0.0033433762736809185), ('dar', 0.003248151617054875)])\n",
      "(15, [('sempit', 0.006633856025921003), ('kaus', 0.005220603441658025), ('koke', 0.004675231482962386), ('reorder', 0.0045322007475381365), ('jakarta', 0.004515046955869052), ('variasi', 0.004346335310525616), ('terimakasii', 0.003954547761845183), ('puasssss', 0.0037655132351571666), ('takut', 0.003663982674332357), ('ganggu', 0.0036462474461710316), ('ah', 0.0036294099732263364), ('model', 0.0035908519013212034), ('cpat', 0.0035776834040935354), ('tengkyu', 0.003544571926849264), ('disc', 0.0034986928598911824), ('platform', 0.003425233199423832), ('lavvvv', 0.003379388187671571), ('gpp', 0.003324347075718635), ('kualitas', 0.0032326074389007597), ('pokok', 0.0031444273751099192)])\n",
      "(16, [('baguuuus', 0.005870198943898548), ('sumpahh', 0.005855570633458107), ('depan', 0.004803352766402349), ('ngadain', 0.004299297380656221), ('gan', 0.004139998442711583), ('sempit', 0.003979898373064948), ('langsing', 0.003908412493690274), ('seller', 0.003901823743885962), ('ngiwir', 0.003702974028095589), ('zzzzzzz', 0.0034814116933871223), ('maron', 0.003465007883005907), ('realpict', 0.003414187397557318), ('baguusss', 0.003388031632093849), ('mesikipun', 0.0033218342042575844), ('ta', 0.003243588615858469), ('isi', 0.0031589383554141144), ('green', 0.0031589105435813588), ('jakarta', 0.0031584402720031446), ('ketat', 0.0031299618821421), ('bangeut', 0.0031070656752865498)])\n",
      "(17, [('nanya', 0.004518712224244642), ('lekuk', 0.004007419255628719), ('nang', 0.003891449813053961), ('premium', 0.0038868402977567354), ('gaan', 0.0038537667296668133), ('enak', 0.003751979050026354), ('kembennya', 0.0036577650890268864), ('cepet', 0.003616343495546586), ('resap', 0.0035956425261888104), ('mbelian', 0.0034951505605884396), ('bl', 0.0034082357183151495), ('dana', 0.0033947009148458194), ('nea', 0.0033748161408437144), ('cakep', 0.0033325900449896837), ('xl', 0.0033242348926350103), ('bnget', 0.0032715898974512315), ('lilac', 0.003203346094238654), ('nama', 0.003128085418828871), ('ungu', 0.0031244360932051823), ('ngasih', 0.0030715532319978357)])\n",
      "(18, [('mantaaaaaaaaaaaaaaaaaaaaaaaaaaaaaaaaaaaaaaaaaaaaaaaaaaaaaaaaaaaap', 0.004976211086925406), ('kyk', 0.004200401291054769), ('mintiib', 0.003682504111450048), ('paliiiiing', 0.0036229920699900153), ('cocok', 0.0035844418676516067), ('melesaat', 0.0035126305549097606), ('modifikasi', 0.0034436725762148285), ('putiny', 0.0033959736919974915), ('as', 0.0033893694678202766), ('gerah', 0.003291391977066892), ('pengirimannyaaa', 0.0032276197678898456), ('so', 0.0032131967053990783), ('sumpah', 0.003210648222904262), ('stoke', 0.0032097773161952393), ('lmyn', 0.0032063322654756555), ('buwanget', 0.003188052052067126), ('mantaab', 0.003172796749656567), ('always', 0.0031518788867431102), ('uy', 0.003119407579808175), ('ok', 0.0031052183215155038)])\n",
      "(19, [('but', 0.004373459268844781), ('sukak', 0.004336350126772518), ('kayak', 0.004294136682588198), ('bngt', 0.0040270041484099335), ('ato', 0.004024870615260647), ('muluskualitas', 0.0038892288178073), ('standard', 0.0038436807014127494), ('tangan', 0.0037993869177012202), ('cakeup', 0.003778434699304952), ('unfinished', 0.0035805016776338737), ('baguuss', 0.0035424480798030384), ('okeoke', 0.00352189817211156), ('b', 0.003516180107660303), ('kek', 0.0034666530493152755), ('slow', 0.0033485007775150687), ('mending', 0.0033263668289040954), ('excellent', 0.003320330275853752), ('responsif', 0.0033100473269137873), ('dar', 0.003256651212547252), ('reorder', 0.0032389121372702182)])\n"
     ]
    }
   ],
   "source": [
    "# Menampilkan topik HDP\n",
    "topik_hdp = hdp_model.show_topics(formatted=False)\n",
    "print(\"Topik HDP:\")\n",
    "for topik in topik_hdp:\n",
    "    print(topik)"
   ]
  },
  {
   "cell_type": "code",
   "execution_count": 7,
   "metadata": {},
   "outputs": [
    {
     "name": "stdout",
     "output_type": "stream",
     "text": [
      "\n",
      "Skor Koherensi untuk tiap topik:\n"
     ]
    },
    {
     "data": {
      "text/html": [
       "<div>\n",
       "<style scoped>\n",
       "    .dataframe tbody tr th:only-of-type {\n",
       "        vertical-align: middle;\n",
       "    }\n",
       "\n",
       "    .dataframe tbody tr th {\n",
       "        vertical-align: top;\n",
       "    }\n",
       "\n",
       "    .dataframe thead th {\n",
       "        text-align: right;\n",
       "    }\n",
       "</style>\n",
       "<table border=\"1\" class=\"dataframe\">\n",
       "  <thead>\n",
       "    <tr style=\"text-align: right;\">\n",
       "      <th></th>\n",
       "      <th>Jumlah Topik</th>\n",
       "      <th>Skor Coherence</th>\n",
       "    </tr>\n",
       "  </thead>\n",
       "  <tbody>\n",
       "    <tr>\n",
       "      <th>0</th>\n",
       "      <td>1</td>\n",
       "      <td>0.750271</td>\n",
       "    </tr>\n",
       "    <tr>\n",
       "      <th>1</th>\n",
       "      <td>2</td>\n",
       "      <td>0.789225</td>\n",
       "    </tr>\n",
       "    <tr>\n",
       "      <th>2</th>\n",
       "      <td>3</td>\n",
       "      <td>0.786510</td>\n",
       "    </tr>\n",
       "    <tr>\n",
       "      <th>3</th>\n",
       "      <td>4</td>\n",
       "      <td>0.757792</td>\n",
       "    </tr>\n",
       "    <tr>\n",
       "      <th>4</th>\n",
       "      <td>5</td>\n",
       "      <td>0.766993</td>\n",
       "    </tr>\n",
       "    <tr>\n",
       "      <th>5</th>\n",
       "      <td>6</td>\n",
       "      <td>0.783159</td>\n",
       "    </tr>\n",
       "    <tr>\n",
       "      <th>6</th>\n",
       "      <td>7</td>\n",
       "      <td>0.774918</td>\n",
       "    </tr>\n",
       "    <tr>\n",
       "      <th>7</th>\n",
       "      <td>8</td>\n",
       "      <td>0.772999</td>\n",
       "    </tr>\n",
       "    <tr>\n",
       "      <th>8</th>\n",
       "      <td>9</td>\n",
       "      <td>0.783844</td>\n",
       "    </tr>\n",
       "    <tr>\n",
       "      <th>9</th>\n",
       "      <td>10</td>\n",
       "      <td>0.796146</td>\n",
       "    </tr>\n",
       "    <tr>\n",
       "      <th>10</th>\n",
       "      <td>11</td>\n",
       "      <td>0.757535</td>\n",
       "    </tr>\n",
       "    <tr>\n",
       "      <th>11</th>\n",
       "      <td>12</td>\n",
       "      <td>0.777951</td>\n",
       "    </tr>\n",
       "    <tr>\n",
       "      <th>12</th>\n",
       "      <td>13</td>\n",
       "      <td>0.786453</td>\n",
       "    </tr>\n",
       "    <tr>\n",
       "      <th>13</th>\n",
       "      <td>14</td>\n",
       "      <td>0.781664</td>\n",
       "    </tr>\n",
       "    <tr>\n",
       "      <th>14</th>\n",
       "      <td>15</td>\n",
       "      <td>0.778022</td>\n",
       "    </tr>\n",
       "    <tr>\n",
       "      <th>15</th>\n",
       "      <td>16</td>\n",
       "      <td>0.770696</td>\n",
       "    </tr>\n",
       "    <tr>\n",
       "      <th>16</th>\n",
       "      <td>17</td>\n",
       "      <td>0.786943</td>\n",
       "    </tr>\n",
       "    <tr>\n",
       "      <th>17</th>\n",
       "      <td>18</td>\n",
       "      <td>0.776463</td>\n",
       "    </tr>\n",
       "    <tr>\n",
       "      <th>18</th>\n",
       "      <td>19</td>\n",
       "      <td>0.788169</td>\n",
       "    </tr>\n",
       "    <tr>\n",
       "      <th>19</th>\n",
       "      <td>20</td>\n",
       "      <td>0.786877</td>\n",
       "    </tr>\n",
       "  </tbody>\n",
       "</table>\n",
       "</div>"
      ],
      "text/plain": [
       "    Jumlah Topik  Skor Coherence\n",
       "0              1        0.750271\n",
       "1              2        0.789225\n",
       "2              3        0.786510\n",
       "3              4        0.757792\n",
       "4              5        0.766993\n",
       "5              6        0.783159\n",
       "6              7        0.774918\n",
       "7              8        0.772999\n",
       "8              9        0.783844\n",
       "9             10        0.796146\n",
       "10            11        0.757535\n",
       "11            12        0.777951\n",
       "12            13        0.786453\n",
       "13            14        0.781664\n",
       "14            15        0.778022\n",
       "15            16        0.770696\n",
       "16            17        0.786943\n",
       "17            18        0.776463\n",
       "18            19        0.788169\n",
       "19            20        0.786877"
      ]
     },
     "execution_count": 7,
     "metadata": {},
     "output_type": "execute_result"
    }
   ],
   "source": [
    "# Menghitung skor koherensi\n",
    "coherence_model_hdp = CoherenceModel(model=hdp_model, texts=texts, dictionary=dictionary, coherence='c_v')\n",
    "coherence_scores = coherence_model_hdp.get_coherence_per_topic()\n",
    "\n",
    "# Membuat DataFrame untuk skor koherensi\n",
    "num_topics = list(range(1, len(coherence_scores) + 1))\n",
    "coherence_df = pd.DataFrame({'Jumlah Topik': num_topics, 'Skor Coherence': coherence_scores})\n",
    "\n",
    "print(\"\\nSkor Koherensi untuk tiap topik:\")\n",
    "coherence_df.head(20)"
   ]
  },
  {
   "cell_type": "code",
   "execution_count": 8,
   "metadata": {},
   "outputs": [],
   "source": [
    "# Mengonversi HDP menjadi fitur\n",
    "X_hdp = np.zeros((len(corpus), hdp_model.m_T))\n",
    "for i, doc in enumerate(corpus):\n",
    "    for topic_id, weight in hdp_model[doc]:\n",
    "        if topic_id < hdp_model.m_T:\n",
    "            X_hdp[i, topic_id] = weight"
   ]
  },
  {
   "cell_type": "code",
   "execution_count": 9,
   "metadata": {},
   "outputs": [],
   "source": [
    "# 4. Klasifikasi menggunakan SVM\n",
    "X_train, X_test, y_train, y_test = train_test_split(X_hdp, y, test_size=0.2, random_state=42)\n",
    "svm = SVC(kernel='linear')\n",
    "svm.fit(X_train, y_train)\n",
    "y_pred = svm.predict(X_test)"
   ]
  },
  {
   "cell_type": "code",
   "execution_count": 10,
   "metadata": {},
   "outputs": [
    {
     "name": "stdout",
     "output_type": "stream",
     "text": [
      "\n",
      "Classification Report:\n",
      "              precision    recall  f1-score   support\n",
      "\n",
      "     Negatif       0.00      0.00      0.00        29\n",
      "     Positif       0.85      1.00      0.92       161\n",
      "\n",
      "    accuracy                           0.85       190\n",
      "   macro avg       0.42      0.50      0.46       190\n",
      "weighted avg       0.72      0.85      0.78       190\n",
      "\n"
     ]
    },
    {
     "name": "stderr",
     "output_type": "stream",
     "text": [
      "c:\\Users\\Muhammad Ade Aulia\\miniconda3\\envs\\gpu_load\\lib\\site-packages\\sklearn\\metrics\\_classification.py:1509: UndefinedMetricWarning: Precision is ill-defined and being set to 0.0 in labels with no predicted samples. Use `zero_division` parameter to control this behavior.\n",
      "  _warn_prf(average, modifier, f\"{metric.capitalize()} is\", len(result))\n",
      "c:\\Users\\Muhammad Ade Aulia\\miniconda3\\envs\\gpu_load\\lib\\site-packages\\sklearn\\metrics\\_classification.py:1509: UndefinedMetricWarning: Precision is ill-defined and being set to 0.0 in labels with no predicted samples. Use `zero_division` parameter to control this behavior.\n",
      "  _warn_prf(average, modifier, f\"{metric.capitalize()} is\", len(result))\n",
      "c:\\Users\\Muhammad Ade Aulia\\miniconda3\\envs\\gpu_load\\lib\\site-packages\\sklearn\\metrics\\_classification.py:1509: UndefinedMetricWarning: Precision is ill-defined and being set to 0.0 in labels with no predicted samples. Use `zero_division` parameter to control this behavior.\n",
      "  _warn_prf(average, modifier, f\"{metric.capitalize()} is\", len(result))\n"
     ]
    }
   ],
   "source": [
    "# 5. Evaluasi classification report\n",
    "print(\"\\nClassification Report:\")\n",
    "print(classification_report(y_test, y_pred, target_names=le.classes_))"
   ]
  },
  {
   "cell_type": "code",
   "execution_count": null,
   "metadata": {},
   "outputs": [],
   "source": []
  }
 ],
 "metadata": {
  "kernelspec": {
   "display_name": "gpu_load",
   "language": "python",
   "name": "python3"
  },
  "language_info": {
   "codemirror_mode": {
    "name": "ipython",
    "version": 3
   },
   "file_extension": ".py",
   "mimetype": "text/x-python",
   "name": "python",
   "nbconvert_exporter": "python",
   "pygments_lexer": "ipython3",
   "version": "3.10.14"
  }
 },
 "nbformat": 4,
 "nbformat_minor": 2
}
