{
 "cells": [
  {
   "cell_type": "markdown",
   "id": "5652ad76",
   "metadata": {},
   "source": [
    "https://github.com/ezaaputra/Sentiment-Analysis-Using-BERT/blob/main/sentiment-bert.ipynb"
   ]
  },
  {
   "cell_type": "code",
   "execution_count": 5,
   "id": "6adf2778-e450-4e00-901c-b3e6adc37ea5",
   "metadata": {
    "scrolled": true
   },
   "outputs": [
    {
     "data": {
      "text/html": [
       "<div>\n",
       "<style scoped>\n",
       "    .dataframe tbody tr th:only-of-type {\n",
       "        vertical-align: middle;\n",
       "    }\n",
       "\n",
       "    .dataframe tbody tr th {\n",
       "        vertical-align: top;\n",
       "    }\n",
       "\n",
       "    .dataframe thead th {\n",
       "        text-align: right;\n",
       "    }\n",
       "</style>\n",
       "<table border=\"1\" class=\"dataframe\">\n",
       "  <thead>\n",
       "    <tr style=\"text-align: right;\">\n",
       "      <th></th>\n",
       "      <th>Nama Pelanggan</th>\n",
       "      <th>Produk</th>\n",
       "      <th>Ulasan</th>\n",
       "      <th>Rating</th>\n",
       "    </tr>\n",
       "  </thead>\n",
       "  <tbody>\n",
       "    <tr>\n",
       "      <th>0</th>\n",
       "      <td>tomi</td>\n",
       "      <td>HanaFashion - Danise Short Pants Celana Pendek...</td>\n",
       "      <td>Bahan celananya bagus, beliin buat si kaka pas...</td>\n",
       "      <td>5</td>\n",
       "    </tr>\n",
       "    <tr>\n",
       "      <th>1</th>\n",
       "      <td>P***u</td>\n",
       "      <td>HanaFashion - Danise Short Pants Celana Pendek...</td>\n",
       "      <td>kualitas bagus.</td>\n",
       "      <td>5</td>\n",
       "    </tr>\n",
       "    <tr>\n",
       "      <th>2</th>\n",
       "      <td>Isna</td>\n",
       "      <td>HanaFashion - Danise Short Pants Celana Pendek...</td>\n",
       "      <td>Ukurannya pas</td>\n",
       "      <td>5</td>\n",
       "    </tr>\n",
       "    <tr>\n",
       "      <th>3</th>\n",
       "      <td>F***n</td>\n",
       "      <td>HanaFashion - Danise Short Pants Celana Pendek...</td>\n",
       "      <td>bumil approved👍</td>\n",
       "      <td>5</td>\n",
       "    </tr>\n",
       "    <tr>\n",
       "      <th>4</th>\n",
       "      <td>R***a</td>\n",
       "      <td>HanaFashion - Danise Short Pants Celana Pendek...</td>\n",
       "      <td>Ukurannya pas</td>\n",
       "      <td>5</td>\n",
       "    </tr>\n",
       "    <tr>\n",
       "      <th>...</th>\n",
       "      <td>...</td>\n",
       "      <td>...</td>\n",
       "      <td>...</td>\n",
       "      <td>...</td>\n",
       "    </tr>\n",
       "    <tr>\n",
       "      <th>105</th>\n",
       "      <td>Ir</td>\n",
       "      <td>HanaFashion - Danise Short Pants Celana Pendek...</td>\n",
       "      <td>bagus sekali rapi all ok banget</td>\n",
       "      <td>5</td>\n",
       "    </tr>\n",
       "    <tr>\n",
       "      <th>106</th>\n",
       "      <td>Anna</td>\n",
       "      <td>HanaFashion - Danise Short Pants Celana Pendek...</td>\n",
       "      <td>ukuran pas (ukuran XL, TB 153 BB 60).\\nbahan a...</td>\n",
       "      <td>5</td>\n",
       "    </tr>\n",
       "    <tr>\n",
       "      <th>107</th>\n",
       "      <td>Anna</td>\n",
       "      <td>HanaFashion - Danise Short Pants Celana Pendek...</td>\n",
       "      <td>ukuran pas (ukuran XL, TB 153 BB 60).\\nbahan e...</td>\n",
       "      <td>5</td>\n",
       "    </tr>\n",
       "    <tr>\n",
       "      <th>108</th>\n",
       "      <td>Petrus</td>\n",
       "      <td>HanaFashion - Danise Short Pants Celana Pendek...</td>\n",
       "      <td>menrt saya, bahan nya kurang bagus</td>\n",
       "      <td>4</td>\n",
       "    </tr>\n",
       "    <tr>\n",
       "      <th>109</th>\n",
       "      <td>Nurhidayat</td>\n",
       "      <td>HanaFashion - Danise Short Pants Celana Pendek...</td>\n",
       "      <td>Mantap Terbaik 💯 dalam kualitas</td>\n",
       "      <td>5</td>\n",
       "    </tr>\n",
       "  </tbody>\n",
       "</table>\n",
       "<p>110 rows × 4 columns</p>\n",
       "</div>"
      ],
      "text/plain": [
       "    Nama Pelanggan                                             Produk  \\\n",
       "0             tomi  HanaFashion - Danise Short Pants Celana Pendek...   \n",
       "1            P***u  HanaFashion - Danise Short Pants Celana Pendek...   \n",
       "2             Isna  HanaFashion - Danise Short Pants Celana Pendek...   \n",
       "3            F***n  HanaFashion - Danise Short Pants Celana Pendek...   \n",
       "4            R***a  HanaFashion - Danise Short Pants Celana Pendek...   \n",
       "..             ...                                                ...   \n",
       "105             Ir  HanaFashion - Danise Short Pants Celana Pendek...   \n",
       "106           Anna  HanaFashion - Danise Short Pants Celana Pendek...   \n",
       "107           Anna  HanaFashion - Danise Short Pants Celana Pendek...   \n",
       "108         Petrus  HanaFashion - Danise Short Pants Celana Pendek...   \n",
       "109     Nurhidayat  HanaFashion - Danise Short Pants Celana Pendek...   \n",
       "\n",
       "                                                Ulasan  Rating  \n",
       "0    Bahan celananya bagus, beliin buat si kaka pas...       5  \n",
       "1                                      kualitas bagus.       5  \n",
       "2                                        Ukurannya pas       5  \n",
       "3                                      bumil approved👍       5  \n",
       "4                                        Ukurannya pas       5  \n",
       "..                                                 ...     ...  \n",
       "105                    bagus sekali rapi all ok banget       5  \n",
       "106  ukuran pas (ukuran XL, TB 153 BB 60).\\nbahan a...       5  \n",
       "107  ukuran pas (ukuran XL, TB 153 BB 60).\\nbahan e...       5  \n",
       "108                 menrt saya, bahan nya kurang bagus       4  \n",
       "109                    Mantap Terbaik 💯 dalam kualitas       5  \n",
       "\n",
       "[110 rows x 4 columns]"
      ]
     },
     "execution_count": 5,
     "metadata": {},
     "output_type": "execute_result"
    }
   ],
   "source": [
    "import pandas as pd\n",
    "df = pd.read_csv(\"../../dataScrapingHanaShop/produk1.csv\")\n",
    "df"
   ]
  },
  {
   "cell_type": "code",
   "execution_count": 2,
   "id": "2177a374-ec80-4ec0-a907-3e22f2c7ee24",
   "metadata": {},
   "outputs": [
    {
     "name": "stdout",
     "output_type": "stream",
     "text": [
      "Requirement already satisfied: pandas in c:\\users\\muhammad ade aulia\\appdata\\local\\programs\\python\\python312\\lib\\site-packages (2.2.2)\n",
      "Requirement already satisfied: numpy>=1.26.0 in c:\\users\\muhammad ade aulia\\appdata\\local\\programs\\python\\python312\\lib\\site-packages (from pandas) (1.26.4)\n",
      "Requirement already satisfied: python-dateutil>=2.8.2 in c:\\users\\muhammad ade aulia\\appdata\\roaming\\python\\python312\\site-packages (from pandas) (2.9.0.post0)\n",
      "Requirement already satisfied: pytz>=2020.1 in c:\\users\\muhammad ade aulia\\appdata\\local\\programs\\python\\python312\\lib\\site-packages (from pandas) (2024.1)\n",
      "Requirement already satisfied: tzdata>=2022.7 in c:\\users\\muhammad ade aulia\\appdata\\local\\programs\\python\\python312\\lib\\site-packages (from pandas) (2024.1)\n",
      "Requirement already satisfied: six>=1.5 in c:\\users\\muhammad ade aulia\\appdata\\roaming\\python\\python312\\site-packages (from python-dateutil>=2.8.2->pandas) (1.16.0)\n",
      "Note: you may need to restart the kernel to use updated packages.\n"
     ]
    }
   ],
   "source": [
    "pip install pandas"
   ]
  },
  {
   "cell_type": "code",
   "execution_count": null,
   "id": "36ca2c13-911a-48c2-9021-07f2a4950611",
   "metadata": {},
   "outputs": [],
   "source": []
  }
 ],
 "metadata": {
  "kernelspec": {
   "display_name": "Python 3 (ipykernel)",
   "language": "python",
   "name": "python3"
  },
  "language_info": {
   "codemirror_mode": {
    "name": "ipython",
    "version": 3
   },
   "file_extension": ".py",
   "mimetype": "text/x-python",
   "name": "python",
   "nbconvert_exporter": "python",
   "pygments_lexer": "ipython3",
   "version": "3.12.3"
  }
 },
 "nbformat": 4,
 "nbformat_minor": 5
}
